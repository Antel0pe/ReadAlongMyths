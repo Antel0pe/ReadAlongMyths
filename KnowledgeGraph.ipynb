{
  "nbformat": 4,
  "nbformat_minor": 0,
  "metadata": {
    "colab": {
      "provenance": [],
      "gpuType": "T4"
    },
    "kernelspec": {
      "name": "python3",
      "display_name": "Python 3"
    },
    "language_info": {
      "name": "python"
    }
  },
  "cells": [
    {
      "cell_type": "code",
      "execution_count": null,
      "metadata": {
        "id": "lW1SEgbBkAnt"
      },
      "outputs": [],
      "source": [
        "!pip install wikipedia-api"
      ]
    },
    {
      "cell_type": "code",
      "source": [
        "!python -m spacy download en_core_web_lg"
      ],
      "metadata": {
        "id": "dBlBsS1ySGnp"
      },
      "execution_count": null,
      "outputs": []
    },
    {
      "cell_type": "code",
      "source": [
        "import wikipediaapi\n",
        "\n",
        "wiki_wiki = wikipediaapi.Wikipedia('WikiHistoryKG (Antelope)', language='en', extract_format=wikipediaapi.ExtractFormat.WIKI)\n",
        "\n",
        "\n",
        "athensPage = wiki_wiki.page(\"History of Athens\")\n",
        "athensText = athensPage.text\n",
        "\n",
        "print(athensText)"
      ],
      "metadata": {
        "id": "oryYyo0EkVQj"
      },
      "execution_count": null,
      "outputs": []
    },
    {
      "cell_type": "code",
      "source": [
        "athensWikipediaText = '''\n",
        "Athens is one of the oldest named cities in the world, having been continuously inhabited for perhaps 5,000 years. Situated in southern Europe, Athens became the leading city of Ancient Greece in the first millennium BC, and its cultural achievements during the 5th century BC laid the foundations of Western civilization.\n",
        "During the early Middle Ages, the city experienced a decline, then recovered under the later Byzantine Empire and was relatively prosperous during the period of the Crusades (12th and 13th centuries), benefiting from Italian trade. Following a period of sharp decline under the rule of the Ottoman Empire, Athens re-emerged in the 19th century as the capital of the independent and self-governing Greek state.\n",
        "\n",
        "Name\n",
        "The name of Athens, connected to the name of its patron goddess Athena, originates from an earlier Pre-Greek language. The origin myth explaining how Athens acquired this name through the legendary contest between Poseidon and Athena was described by Herodotus, Apollodorus, Ovid, Plutarch, Pausanias and others. It even became the theme of the sculpture on the west pediment of the Parthenon. Both Athena and Poseidon requested to be patrons of the city and to give their name to it, so they competed with offering the city one gift each. Poseidon produced a spring by striking the ground with his trident, symbolizing naval power.\n",
        "\n",
        "Athena created the olive tree, symbolizing peace and prosperity. The Athenians, under their ruler Cecrops, accepted the olive tree and named the city after Athena. (Later the Southern Italian city of Paestum was founded under the name of Poseidonia at about 600 BC.) A sacred olive tree said to be the one created by the goddess was still kept on the Acropolis at the time of Pausanias (2nd century AD). It was located by the temple of Pandrosus, next to the Parthenon. According to Herodotus, the tree had been burnt down during the Persian Wars, but a shoot sprung from the stump. The Greeks saw this as a symbol that Athena still had her mark there on the city.\n",
        "Plato, in his dialogue Cratylus, offers an etymology of Athena's name connecting it to the phrase ἁ θεονόα or hē theoû nóēsis (ἡ θεοῦ νόησις, 'the mind of god').\n",
        "\n",
        "Geographical setting\n",
        "There is evidence that the site on which the Acropolis ('high city') stands was first inhabited in the Neolithic period, perhaps as a defensible settlement, around the end of the fourth millennium BC or a little later. The site is a natural defensive position which commands the surrounding plains. It is located about 20 km (12 mi) inland from the Saronic Gulf, in the centre of the Cephisian Plain, a fertile valley surrounded by rivers. To the east lies Mount Hymettus, to the north Mount Pentelicus.\n",
        "Ancient Athens, in the first millennium BC, occupied a very small area compared to the sprawling metropolis of modern Greece. The ancient walled city encompassed an area measuring about two kilometres (1.5 mi) from east to west and slightly less than that from north to south, although at its peak the ancient city had suburbs extending well beyond these walls. The Acropolis was situated just south of the centre of this walled area.\n",
        "The Agora, the commercial and social centre of the city, lay about 400 m (1,300 ft) north of the Acropolis, in what is now the Monastiraki district. The hill of the Pnyx, where the Athenian Assembly met, lay at the western end of the city. The Eridanus (Ηριδανός) river flowed through the city.\n",
        "One of the most important religious sites in ancient Athens was the Temple of Athena, known today as the Parthenon, which stood on top of the Acropolis, where its evocative ruins still stand. Two other major religious sites, the Temple of Hephaestus (which is still largely intact) and the Temple of Olympian Zeus or Olympeion (once the largest temple in mainland Greece but now in ruins) also lay within the city walls.\n",
        "\n",
        "Antiquity\n",
        "Origins and early history\n",
        "Athens has been inhabited from Neolithic times, possibly from the end of the fourth millennium BC, or over 5,000 years. By 1412 BC, the settlement had become an important center of the Mycenaean civilization and the Acropolis was the site of a major Mycenaean fortress whose remains can be recognised from sections of the characteristic Cyclopean walls. On the summit of the Acropolis, below the later Erechtheion, cuttings in the rock have been identified as the location of a Mycenaean palace. Between 1250 and 1200 BC, to feed the needs of the Mycenaean settlement, a staircase was built down a cleft in the rock to reach a water supply that was protected from enemy incursions, comparable to similar works carried out at Mycenae.\n",
        "Unlike other Mycenaean centers, such as Mycenae and Pylos, it is unclear whether Athens suffered destruction in about 1200 BC, an event traditionally attributed to a Dorian invasion (though now commonly attributed to a systems collapse, part of the Late Bronze Age collapse). The Athenians always maintained that they were 'pure' Ionians with no Dorian element. However, Athens, like many other Bronze Age settlements, went into economic decline for around 150 years following this.\n",
        "Iron Age burials, in the Kerameikos and other locations, are often richly provided for and demonstrate that from 900 BC onwards Athens was one of the leading centres of trade and prosperity in the region; as were Lefkandi in Euboea and Knossos in Crete. This position may well have resulted from its central location in the Greek world, its secure stronghold on the Acropolis and its access to the sea, which gave it a natural advantage over inland rivals such as Thebes and Sparta.\n",
        "\n",
        "Founding myths\n",
        "According to legend, Athens was formerly ruled by kings, a situation which may have continued up until the 9th century BC. From later accounts, it is believed that these kings stood at the head of a land-owning aristocracy known as the Eupatridae (the 'well-born'), whose instrument of government was a Council which met on the Hill of Ares, called the Areopagus and appointed the chief city officials, the archons and the polemarch (commander-in-chief). The most famous king of Athens was Theseus, a prominent figure in Greek Mythology who killed the Minotaur. A slightly different mythical version of Athens' past is given in Plato's dialogue Timaeus. In this dialogue, a story is told about information given to Athenian leader Solon from Egyptian priests of the goddess Neith while he visited Egypt, according to which a well advanced Athenian state was established 9,000 years prior to his time that preceded Egypt's oldest kingdom by a thousand years. The laws of that state were the most just and largely inspired the various kings of Egypt when making laws for their kingdom. This story is not supported by any scholarly evidence, as no Athenian state is known to have existed during the 10th millennium BC. In addition, no evidence exists of any possible cultural or other ties between Egypt and any part of present-day Greece at such early a date.\n",
        "\n",
        "Classical period\n",
        "During the 1st millennium BC, Athens succeeded in bringing the other towns of Attica under its rule. This process of synoikismos – the bringing together into one home – created the largest and wealthiest state on the Greek mainland, but it also created a larger class of people excluded from political life by the nobility. By the 7th century BC, social unrest had become widespread, and the Areopagus appointed Draco to draft a strict new code of law (hence the word 'draconian'). When this failed, they appointed Solon, with a mandate to create a new constitution (in 594 BC).\n",
        "\n",
        "Reform and democracy\n",
        "The reforms that Solon initiated dealt with both political and economic issues. The economic power of the Eupatridae was reduced by forbidding the enslavement of Athenian citizens as a punishment for debt (debt bondage), by breaking up large landed estates and freeing up trade and commerce, which allowed the emergence of a prosperous urban trading class. Politically, Solon divided the Athenians into four classes, based on their wealth and their ability to perform military service. The poorest class, the Thetai, (Ancient Greek Θήται) who formed the majority of the population, received political rights for the first time and were able to vote in the Ecclesia (Assembly). But only the upper classes could hold political office. The Areopagus continued to exist but its powers were reduced.\n",
        "The new system laid the foundations for what eventually became Athenian democracy, but in the short-term it failed to quell class conflict and after twenty years of unrest the popular party, led by Peisistratos, seized power. Peisistratos is usually called a tyrant, but the Greek word tyrannos does not mean a cruel and despotic ruler, merely one who took power by force. Peisistratos was in fact a very popular ruler, who made Athens wealthy, powerful, and a centre of culture. He preserved the Solonian Constitution, but made sure that he and his family held all the offices of state.\n",
        "Peisistratus built the first aqueduct tunnel at Athens, which most likely had its sources on the slopes of Mount Hymettos and along the Ilissos river. It supplied, among other structures, the fountain house in the southeast corner of the Agora, but it had a number of branches. In the 4th century BC it was replaced by a system of terracotta pipes in a stone-built underground channel, sometimes called the Hymettos aqueduct; many sections had round, oval or square access holes on top of about 10 cm × 10 cm (4 in × 4 in).\n",
        "Pipe segments of this system are displayed at the Evangelismos and Syntagma Metro stations.\n",
        "\n",
        "Peisistratos died in 527 BC and was succeeded by his sons Hippias and Hipparchus. They proved to be much less adept rulers and in 514 BC, Hipparchus was assassinated in a private dispute over a young man (see Harmodius and Aristogeiton). This led Hippias to establish a real dictatorship, which proved very unpopular. He was overthrown in 510 BC. A radical politician with an aristocratic background named Cleisthenes then took charge, and it was he who established democracy in Athens.\n",
        "The reforms of Cleisthenes replaced the traditional four phyle ('tribes') with ten new ones, named after legendary heroes and having no class basis; they were in fact electorates. Each phyle was in turn divided into three trittyes and each trittys had one or more demes, which became the basis of local government. The phyle each elected fifty members to the Boule, a council which governed Athens on a day-to-day basis. The Assembly was open to all citizens and was both a legislature and a supreme court, except in murder cases and religious matters, which became the only remaining functions of the Areopagus.\n",
        "Most public offices were filled by lot, although the ten strategoi (generals) were elected. This system remained remarkably stable and, with a few brief interruptions, it remained in place for 170 years, until Philip II of Macedon defeated Athens and Thebes at the Battle of Chaeronea in 338 BC.\n",
        "\n",
        "Classical Athens\n",
        "Early Athenian military history and Persian era\n",
        "Prior to the rise of Athens, Sparta considered itself to be the leader (or 2) of the Greeks. In 499 BC, Athens sent troops to aid the Ionian Greeks of Asia Minor, who were rebelling against the Persian Empire (the Ionian Revolt). This provoked two Persian invasions of Greece by the Achaemenid Empire. In 490 BC, the Athenians, led by the soldier-statesman Miltiades, defeated the first invasion of the Persians under Darius I at the Battle of Marathon.\n",
        "\n",
        "In 480 BC, the Persians returned under Darius's son Xerxes. When a small Greek force holding the pass of Thermopylae was defeated, the Persians proceeded to capture an evacuated Athens. The city of Athens was twice captured and sacked by the Persians within one year after Thermopylae. Subsequently, the Athenians (led by Themistocles), with their allies, engaged the much larger Persian navy at sea in the Battle of Salamis and routed the Persians, a great turning point in the war.\n",
        "In 479 BC, the Athenians and Spartans, with their allies, defeated the Persian army conclusively at the Battle of Plataea. Athens then took the war to Asia Minor. These victories enabled it to bring most of the Aegean and many other parts of Greece together in the Delian League, an Athenian-dominated alliance.\n",
        "\n",
        "Peloponnesian War\n",
        "The resentment felt by other cities at the hegemony of Athens led to the Peloponnesian War, which began in 431 BC and pitted Athens and its increasingly rebellious overseas empire against a coalition of land-based states led by Sparta. The conflict was a drawn out one that saw Sparta control the land while Athens was dominant at sea, however the disastrous Sicilian Expedition severely weakened Athens and the war eventually ended in an Athenian defeat following the Battle of Aegospotami which ended Athenian naval supremacy.\n",
        "\n",
        "Athenian coup of 411 BC\n",
        "Due to its poor handling of the war, the democracy in Athens was briefly overthrown by a coup in 411 BC; however, it was quickly restored. The Peloponnesian War ended in 404 BC with the complete defeat of Athens. Since the loss of the war was largely blamed on democratic politicians such as Cleon and Cleophon, there was a brief reaction against democracy, aided by the Spartan army (the rule of the Thirty Tyrants). In 403 BC, however, democracy was restored by Thrasybulus and an amnesty was declared.\n",
        "\n",
        "Corinthian War and the Second Athenian League\n",
        "Sparta's former allies soon turned against her, due to her imperialist policy, and soon Athens' former enemies Thebes and Corinth had become her allies; they fought with Athens and Argos against Sparta in the indecisive Corinthian War (395 – 387 BC). Opposition to Sparta enabled Athens to establish a Second Athenian League.\n",
        "Finally Thebes defeated Sparta in 371 BC in the Battle of Leuctra. But then the Greek cities (including Athens and Sparta) turned against Thebes, whose dominance was stopped at the Battle of Mantinea (362 BC) with the death of its military-genius leader Epaminondas.\n",
        "\n",
        "Athens and the rise of Macedon\n",
        "By the mid-4th century BC, however, the northern Greek kingdom of Macedon was becoming dominant in Athenian affairs. In the Battle of Chaeronea (338 BC), Philip II's armies defeated an alliance of some of the Greek city-states including Athens and Thebes, forcing them into a confederation and effectively limiting Athenian independence. Philippides of Paiania, one of the wealthiest Athenian aristocratic oligarchs, campaigned for Philip II during the Battle of Chaeronea and proposed in the Assembly decrees honoring Alexander the Great for the Macedonian victory. Philippides was prosecuted in trial by Hypereides, who detested his pro-Macedonian sympathies. Subsequently, the conquests of Alexander the Great widened Greek horizons and made the traditional Greek city state obsolete. Athens remained a wealthy city with a brilliant cultural life, but ceased to be a leading power. The period following the death of Alexander in 323 BC is known as Hellenistic Greece.\n",
        "\n",
        "Artists and philosophers\n",
        "The period from the end of the Persian Wars to the Macedonian conquest marked the zenith of Athens as a center of literature, philosophy, and the arts. In Athens at this time, the political satire of the Comic poets at the theatres had a remarkable influence on public opinion.\n",
        "Some of the most important figures of Western cultural and intellectual history lived in Athens during this period: the dramatists Aeschylus, Sophocles, Euripides and Aristophanes, the physician Hippocrates, the philosophers Socrates, Plato and Aristotle, the historians Herodotus, Thucydides and Xenophon, the poet Simonides, the orators Antiphon, Isocrates, Aeschines, and Demosthenes, and the sculptor Phidias. The leading statesman of the mid-fifth century BC was Pericles, who used the tribute paid by the members of the Delian League to build the Parthenon and other great monuments of classical Athens. The city became, in Pericles's words, \"the school of Hellas [Greece].\"\n",
        "\n",
        "Hellenistic Athens\n",
        "Shortly after the death of Alexander the Great, Antipater and Craterus became joint generals of Greece and Macedonia. Athens joined Aetolia and Thessaly in facing their power, known as the Lamian War. Craterus fell in a battle against Eumenes in 320 BC, leaving Antipater alone to rule for a year, until his death in 319 BC. Athens had a central role in the struggle for his succession, when Antipater's son, Cassander, secured the Piraeus leaving Athens without a source of supplies, to contest Antipater's successor, Polyperchon. To consolidate power against Cassander, Polyperchon restored Athens's democracy, as it was before the Lamian War. However, after losing the fleet one year prior, Polyperchon had to flee Macedon when in 316 BC Cassander secured control of Athens. Cassander appointed Demetrius of Phalerum as head of the administration of Athens. Demetrius remained in power until 307 BC when Cassander's enemy, Demetrius Poliorcetes captured Athens, and Macedon, ending the short-lived Antipatrid dynasty and installing his own.\n",
        "\n",
        "Athens and the rise of the Roman empire\n",
        "After the Pyrrhic War (280–275 BC) Rome asserted its hegemony over Magna Graecia and became increasingly involved in Greece and the Balkans peninsula. The First Macedonian War (214–205 BC) between the Roman Republic and the Kingdom of Macedon ended with the Treaty of Phoenice. During the Second Macedonian War (200–197), the Romans declared \"the freedom of Greece\" from the Macedonian Kings. The Roman–Seleucid War (192–188) ended with the Peace of Apamea, and the Third Macedonian War (171–168), after which Macedonian territory was divided into four client republics and Macedonia was formally annexed to the Roman Republic after the Fourth Macedonian War (150–148). The Achaean League was defeated and dissolved by the Romans in the Achaean War in 146. Greece was divided into the Roman provinces of Macedonia and Achaea; thus, Athens came under Roman rule.\n",
        "\n",
        "Roman Athens\n",
        "During the First Mithridatic War, Athens was ruled by Aristion, a tyrant installed by Mithridates the Great. In 88–85 BC, most Athenian fortifications and homes were leveled by the Roman general Sulla after the Siege of Athens and Piraeus, although many civic buildings and monuments were left intact. The Macedonian astronomer Andronicus of Cyrrhus subsequently designed the Tower of the Winds for the Roman forum, which mostly survives to the present day. Under Roman rule, Athens was given the status of a free city because of its widely admired schools. The Roman emperor Hadrian (r. 117–138 AD), constructed the Library of Hadrian, a gymnasium, an aqueduct which is still in use, several temples and sanctuaries, a bridge, and finally completed the Temple of Olympian Zeus. The Arch of Hadrian commemorates the foundation of the city by Hadrian, with the \"city of Theseus\" referred to on its inscription on one side of the arch, and the new quarter erected by Hadrian around the Temple of Zeus called the \"city of Hadrian\".\n",
        "\n",
        "The city was sacked by the Heruli in 267 AD, resulting in the burning of all the public buildings, the plundering of the lower city and the damaging of the Agora and Acropolis. After the Sack of Athens, the city to the north of the Acropolis was hastily refortified on a smaller scale, with the agora left outside the walls. Athens remained a centre of learning and philosophy during its 500 years of Roman rule, patronized by emperors such as Nero and Hadrian.\n",
        "\n",
        "Late Antiquity\n",
        "In the early 4th century AD, the eastern Roman empire began to be governed from Constantinople, and with the construction and expansion of the imperial city, many of Athens's works of art were taken by the emperors to adorn it. The Empire became Christianized, and the use of Latin declined in favour of exclusive use of Greek; in the Roman imperial period, both languages had been used. In the later Roman period, Athens was ruled by the emperors continuing until the 13th century, its citizens identifying themselves as citizens of the Roman Empire (\"Rhomaioi\"). The conversion of the empire from paganism to Christianity greatly affected Athens, resulting in reduced reverence for the city. Ancient monuments such as the Parthenon, Erechtheion and the Hephaisteion (Theseion) were converted into churches. As the empire became increasingly anti-pagan, Athens became a provincial town and experienced fluctuating fortunes.\n",
        "The city remained an important center of learning, especially of Neoplatonism—with notable pupils including Gregory of Nazianzus, Basil of Caesarea and emperor Julian (r. 355–363)—and consequently a center of paganism. Christian items do not appear in the archaeological record until the early 5th century. The sack of the city by the Herules in 267 and by the Visigoths under their king Alaric I (r. 395–410) in 396, however, dealt a heavy blow to the city's fabric and fortunes, and Athens was henceforth confined to a small fortified area that embraced a fraction of the ancient city. The emperor Justinian I (r. 527–565) banned the teaching of philosophy by pagans in 529, an event whose impact on the city is much debated, but is generally taken to mark the end of the ancient history of Athens. Athens was sacked by the Slavs in 582, but remained in imperial hands thereafter, as highlighted by the visit of the emperor Constans II (r. 641–668) in 662/3 and its inclusion in the Theme of Hellas.\n",
        "\n",
        "Middle Ages\n",
        "Byzantine Athens\n",
        "The city was threatened by Saracen raids in the 8th–9th centuries—in 896, Athens was raided and possibly occupied for a short period, an event which left some archaeological remains and elements of Arabic ornamentation in contemporary buildings—but there is also evidence of a mosque existing in the city at the time. In the great dispute over Byzantine Iconoclasm, Athens is commonly held to have supported the iconophile position, chiefly due to the role played by Empress Irene of Athens in the ending of the first period of Iconoclasm at the Second Council of Nicaea in 787. A few years later, another Athenian, Theophano, became empress as the wife of Staurakios (r. 811–812).\n",
        "Invasion of the empire by the Turks after the Battle of Manzikert in 1071, and the ensuing civil wars, largely passed the region by and Athens continued its provincial existence unharmed. When the Byzantine Empire was rescued by the resolute leadership of the three Komnenos emperors Alexios, John and Manuel, Attica and the rest of Greece prospered. Archaeological evidence tells us that the medieval town experienced a period of rapid and sustained growth, starting in the 11th century and continuing until the end of the 12th century.\n",
        "The agora or marketplace, which had been deserted since late antiquity, began to be built over, and soon the town became an important centre for the production of soaps and dyes. The growth of the town attracted the Venetians, and various other traders who frequented the ports of the Aegean, to Athens. This interest in trade appears to have further increased the economic prosperity of the town.\n",
        "The 11th and 12th centuries were the Golden Age of Byzantine art in Athens. Almost all of the most important Middle Byzantine churches in and around Athens were built during these two centuries, and this reflects the growth of the town in general. However, this medieval prosperity was not to last. In 1204, the Fourth Crusade conquered Athens and the city was not recovered from the Latins before it was taken by the Ottoman Turks. It did not become Greek in government again until the 19th century.\n",
        "\n",
        "Latin Athens\n",
        "From 1204 until 1458, Athens was ruled by Latins in three separate periods, following the Crusades. The \"Latins\", or \"Franks\", were western Europeans and followers of the Latin Church brought to the Eastern Mediterranean during the Crusades. Along with rest of Byzantine Greece, Athens was part of the series of feudal fiefs, similar to the  Crusader states established in Syria and on Cyprus after the First Crusade. This period is known as the Frankokratia.\n",
        "\n",
        "Burgundian period\n",
        "Athens was initially the capital of the eponymous Duchy of Athens, a fief of the Latin Empire which replaced the Byzantine Empire, ruling from Constantinople. After Thebes became a possession of the Latin dukes, which were of the Burgundian family called De la Roche, it replaced Athens as the capital and seat of government, although Athens remained the most influential ecclesiastical centre in the duchy and site of a prime fortress.\n",
        "Under the Burgundian dukes, a bell tower was added to the Parthenon, known as the Frankish Tower. The Burgundians brought chivalry and tournaments to Athens; they also fortified the Acropolis. They were themselves influenced by Byzantine Greek culture.\n",
        "\n",
        "Aragonese period\n",
        "In 1311, Athens was conquered by the Catalan Company, a band of mercenaries called Almogavars. It was held by the Catalans until 1388. After 1379, when Thebes was lost, Athens became the capital of the duchy again.\n",
        "The history of Aragonese Athens, called Cetines (rarely Athenes) by the conquerors, is obscure. Athens was a veguería with its own castellan, captain, and veguer. At some point during the Aragonese period, the Acropolis was further fortified and the Athenian archdiocese received an extra two suffragan sees.\n",
        "\n",
        "Florentine period\n",
        "In 1388, the Florentine Nerio I Acciajuoli took the city and made himself duke. The Florentines had to dispute the city with the Republic of Venice, but they ultimately emerged victorious after seven years of Venetian rule (1395–1402). The descendants of Nerio I Acciajuoli ruled the city (as their capital) until the Turkish conquest of 1458.\n",
        "\n",
        "Early modern period\n",
        "Ottoman Athens\n",
        "The first Ottoman attack on Athens, which involved a short-lived occupation of the town, came in 1397, under the Ottoman generals Yaqub Pasha and Timurtash. Finally, in 1458, Athens was captured by the Ottomans under the personal leadership of Sultan Mehmed II. As the Ottoman Sultan rode into the city, he was greatly struck by the beauty of its ancient monuments and issued a firman (imperial edict) forbidding their looting or destruction, on pain of death. The Parthenon was converted into the main mosque of the city.\n",
        "Under Ottoman rule, Athens was denuded of any importance and its population severely declined, leaving it as a \"small country town\" (Franz Babinger). From the early 17th century, Athens came under the jurisdiction of the Kizlar Agha, the chief black eunuch of the Sultan's harem. The city had originally been granted by Sultan Ahmed I (r. 1603–1617) to Basilica, one of his favourite concubines, who hailed from the city, in response of complaints of maladministration by the local governors. After her death, Athens came under the purview of the Kizlar Agha.\n",
        "The Turks began a practice of storing gunpowder and explosives in the Parthenon and Propylaea. In 1640, a lightning bolt struck the Propylaea, causing its destruction. In 1687, during the Morean War, the Acropolis was besieged by the Venetians under Francesco Morosini, and the temple of Athena Nike was dismantled by the Ottomans to fortify the Parthenon. A shot fired during the bombardment of the Acropolis caused a powder magazine in the Parthenon to explode (26 September), and the building was severely damaged, giving it largely the appearance it has today. The Venetian occupation of Athens lasted for six months, and both the Venetians and the Ottomans participated in the looting of the Parthenon. One of its western pediments was removed, causing even more damage to the structure. During the Venetian occupation, the two mosques of the city were converted into Catholic and Protestant churches, but on 9 April 1688 the Venetians abandoned Athens again to the Ottomans.\n",
        "In the 18th century, the city recovered much of its prosperity. During Michel Fourmont's visit in the city in the 1720s, he witnessed much construction going on, and by the time the Athenian teacher Ioannis Benizelos wrote an account of the city's affairs in the 1770s, Athens was once again enjoying some prosperity, so that, according to Benizelos, it \"could be cited as an example to the other cities of Greece\". Its Greek population possessed a considerable degree of self-government, under a council of primates composed of the leading aristocratic families, along with the city's metropolitan bishop. The community was quite influential with the Ottoman authorities, the pasha (governor), the kadi (judge), the mufti (Islamic prelate), and the garrison commander of the Acropolis—according to Benizelos, if the pasha did not treat them well and heed their opinion, he was liable to be removed before his annual term of office was out—particularly through the influence at Constantinople of the two Athenian-born patriarchs of Jerusalem, Parthenius (1737–1766) and Ephram II (1766–1770). Taxation was also light, with only the haraç tax payable to the Ottoman government, as well as the salt tax and a water-tax for the olive yards and gardens.\n",
        "This peaceful situation was interrupted in 1752–1753, when the execution of the previous Kizlar Agha resulted in the dispatch of a new pasha, Sari Muselimi. His abuse of power led to protests by both the Greeks and the Turks; Sari Muselimi killed some of the notables who protested, whereupon the populace burned down his residence. The pasha fled to the Acropolis, where he was besieged by the Athenians, until the Ottoman governor of Negroponte intervened and restored order, imprisoning the metropolitan bishop and imposing a heavy fine on the Greek community. In 1759 the new pasha, a native Muslim, destroyed one of the pillars of the Temple of Olympian Zeus to provide material for a fifth mosque for the city—an illegal act, as the temple was considered the Sultan's property. In the next year, Athens was removed from the purview of the Kizlar Agha and transferred to the privy purse of the Sultan. Henceforth it would be leased as a malikhane, a form of tax farming where the owner bought the proceeds of the city for a fixed sum, and enjoyed them for life.\n",
        "\n",
        "The first owner (malikhane sahib), Ismail Agha, a local Turk from Livadeia, had been humane and popular, appointing good voevodas, so that he was nicknamed \"the Good\". English visitors during the 1760s report a population of around 10,000 inhabitants, around four-fifths of which were Christians. The Turkish community numbered several families established in the city since the Ottoman conquest; and their relations with their Christian neighbours were friendlier than elsewhere, as they had assimilated themselves to a degree, even to the point of drinking wine. The climate was healthy, but the city relied chiefly on pasture—practiced by the Arvanites of Attica—rather than agriculture. It exported leather, soap, grain, oil, honey, wax, resin, a little silk, cheese, and valonia, chiefly to Constantinople and France. The city hosted a French and an English consul. During the Orlov Revolt of 1770 the Athenians, with the exception of the younger men, remained cautious and passive, even when the Greek rebel chieftain Mitromaras seized Salamis. Nevertheless, it was only thanks to the intervention of Ismail Agha that the city was spared a massacre as reprisals, and was forced to pay an indemnity instead.\n",
        "Ismail Agha's successor, Hadji Ali Haseki was cruel and tyrannical, and the twenty years of his on-and-off rule over the city represented one of the worst periods in the city's history. Supported by the city's aristocratic families, and his relationship with the Sultan's sister, who was his lover, he extorted large sums from the populace, and seized much property from them. Through protests in Constantinople, the Athenians achieved his recall several times, but Haseki always returned, until his final downfall and execution in 1795. Haseki's early tenure also saw two large Muslim Albanian raids into Attica, as a response to which he ordered the construction of a new city wall, the \"Wall of Haseki\", which was partly constructed with material taken from ancient monuments. Between 1801 and 1805 Lord Elgin, the British ambassador to the Ottoman Empire, arranged for the removal of many sculptures from the Parthenon (the Elgin marbles). Along with the Panathenaic frieze, one of the six caryatids of the Erechtheion was extracted and replaced with a plaster mold. All in all, fifty pieces of sculpture were carried away, including three fragments purchased by the French.\n",
        "\n",
        "Athens produced some notable intellectuals during this era, such as Demetrius Chalcondyles (1424–1511), who became a celebrated Renaissance teacher of Greek and of Platonic philosophy in Italy. Chalcondyles published the first printed editions of Homer (in 1488), of Isocrates (in 1493), and of the Suda lexicon (in 1499), and a Greek grammar (Erotemata).\n",
        "His cousin Laonicus Chalcondyles (c. 1423–1490) was also a native of Athens, a notable scholar and Byzantine historian and one of the most valuable of the later Greek historians. He was the author of the valuable work Historiarum Demonstrationes (Demonstrations of History) and was a great admirer of the ancient writer Herodotus, encouraging the interest of contemporary Italian humanists in that ancient historian. In the 17th century, Athenian-born Leonardos Philaras (c. 1595–1673), was a Greek scholar, politician, diplomat, advisor and the Duke of Parma's ambassador to the French court, spending much of his career trying to persuade western European intellectuals to support Greek independence.\n",
        "\n",
        "Independence from the Ottomans\n",
        "In 1822, a Greek insurgency captured the city, but it fell to the Ottomans again in 1826 (though Acropolis held till June 1827). Again the ancient monuments suffered badly. The Ottoman forces remained in possession until March 1833, when they withdrew. At that time, the city (as throughout the Ottoman period) had a small population of an estimated 400 houses, mostly located around the Acropolis in the Plaka.\n",
        "\n",
        "Modern history\n",
        "In 1832, Otto, Prince of Bavaria, was proclaimed King of Greece. He adopted the Greek spelling of his name, King Othon, as well as Greek national dress, and made it one of his first tasks as king to conduct a detailed archaeological and topographical survey of Athens, his new capital. He assigned Gustav Eduard Schaubert and Stamatios Kleanthis to complete this task. At that time, Athens had a population of only 4,000 to 5,000, residing in a scattering of houses at the foot of the Acropolis, located in what today covers the district of Plaka.\n",
        "Athens was chosen as the Greek capital for historical and sentimental reasons. There are few buildings dating from the period of the Byzantine Empire or the 18th century. Once the capital was established, a modern city plan was laid out and public buildings were erected.\n",
        "\n",
        "The finest legacy of this period are the buildings of the University of Athens (1837), the National Gardens of Athens (1840), the National Library of Greece (1842), the Old Royal Palace (now the Greek Parliament Building; 1843), the Old Parliament Building (1858), the City Hall (1874), the Zappeion Exhibition Hall (1878), the Greek National Academy (1885) and the New Royal Palace (now the Presidential Palace; 1897). Athens hosted the 1896 Summer Olympics, the first in modern times.\n",
        "\n",
        "Athens experienced its second period of explosive growth following the disastrous Greco-Turkish War in 1921, when more than a million Greek refugees from Asia Minor were resettled in Greece, after the Asia Minor Catastrophe in 1922. Suburbs such as Nea Ionia and Nea Smyrni began as refugee settlements on the Athens outskirts and the population of the city doubled.\n",
        "\n",
        "Athens during World War II\n",
        "Athens was occupied by the Axis (primarily German soldiers) during World War II and experienced terrible privations during the later years of the war. The Great Famine greatly affected the city during the occupation. Several resistance organizations were present inside Athens to fight against the occupation. Following the liberation of Greece and the ensuing Greek Civil War, the Dekemvriana rocked the city with heavy fighting between communist forces and  government forces backed by the British.\n",
        "\n",
        "Contemporary Athens\n",
        "Following World War II the city began to grow again as people migrated from the villages and islands to find work. Greek entry into the European Union in 1981 brought a flood of new investment to the city, but also increasing social and environmental problems. Athens had some of the worst traffic congestion and air pollution in the world at that time. This posed a new threat to the ancient monuments of Athens, as traffic vibration weakened foundations and air pollution corroded marble. The city's environmental and infrastructure problems were the main reason why Athens failed to secure the 1996 Centenary Olympic Games. Following the failed attempt to secure the 1996 Olympics, both the city of Athens and the Greek government, aided by European Union funds, undertook major infrastructure projects such as the new Athens Airport and a new metro system. The city also tackled air pollution by restricting the use of cars in the center of the city. As a result, Athens won its bid to host the 2004 Summer Olympic Games. Despite the skepticism of many observers, the games were a success and brought renewed prestige and tourism revenue to Athens. The 2008 Greek Riots began in Athens following the killing of a 15-year old student by an officer.\n",
        "'''"
      ],
      "metadata": {
        "id": "obknKmsNNlYT"
      },
      "execution_count": null,
      "outputs": []
    },
    {
      "cell_type": "code",
      "source": [
        "import spacy\n",
        "\n",
        "nlp = spacy.load(\"en_core_web_lg\")\n",
        "doc = nlp(athensText)"
      ],
      "metadata": {
        "id": "2TyV3LhIQb7b"
      },
      "execution_count": null,
      "outputs": []
    },
    {
      "cell_type": "code",
      "source": [
        "for ent in doc.ents:\n",
        "    print(ent.text, ent.label_)"
      ],
      "metadata": {
        "id": "NaV8GxLjRIFB"
      },
      "execution_count": null,
      "outputs": []
    },
    {
      "cell_type": "code",
      "source": [
        "for chunk in doc.noun_chunks:\n",
        "    if chunk.ents:\n",
        "        print(chunk.text, chunk.root.text, chunk.root.dep_,\n",
        "            chunk.root.head.text, chunk.ents)"
      ],
      "metadata": {
        "id": "gpIH0rI12BJ2"
      },
      "execution_count": null,
      "outputs": []
    },
    {
      "cell_type": "code",
      "source": [
        "testText = 'John lived in Paris. He had brown eyes.'\n",
        "testDoc = nlp(testText)\n",
        "\n",
        "for t in testDoc:\n",
        "    print(t.text, '-', t.morph, '->', t.head)\n",
        "\n",
        "# testDoc.to_json()"
      ],
      "metadata": {
        "id": "oeLSOxun9sF6"
      },
      "execution_count": null,
      "outputs": []
    },
    {
      "cell_type": "code",
      "source": [
        "# prompt: have spacy look at the text 'John lived in Paris. He had brown eyes.' and output that john lived in paris and that he had brown eyes\n",
        "\n",
        "import wikipediaapi\n",
        "import spacy\n",
        "!pip install wikipedia-api\n",
        "!python -m spacy download en_core_web_lg\n",
        "\n",
        "wiki_wiki = wikipediaapi.Wikipedia('WikiHistoryKG (Antelope)', language='en', extract_format=wikipediaapi.ExtractFormat.WIKI)\n",
        "\n",
        "\n",
        "athensPage = wiki_wiki.page(\"History of Athens\")\n",
        "athensText = athensPage.text\n",
        "\n",
        "print(athensText)\n",
        "\n",
        "nlp = spacy.load(\"en_core_web_lg\")\n",
        "doc = nlp(athensText)\n",
        "for ent in doc.ents:\n",
        "    print(ent.text, ent.label_)\n",
        "for chunk in doc.noun_chunks:\n",
        "    if chunk.ents:\n",
        "        print(chunk.text, chunk.root.text, chunk.root.dep_,\n",
        "            chunk.root.head.text, chunk.ents)\n",
        "testText = 'John lived in Paris. He had brown eyes.'\n",
        "testDoc = nlp(testText)\n",
        "\n",
        "for sentence in testDoc.sents:\n",
        "  print(sentence)\n"
      ],
      "metadata": {
        "id": "EKZgcx_XFblG"
      },
      "execution_count": null,
      "outputs": []
    },
    {
      "cell_type": "code",
      "source": [
        "import spacy\n",
        "\n",
        "nlp = spacy.load(\"en_core_web_lg\")\n",
        "text = \"Napoleon was born in 1769 in Corsica and became Emperor of France in 1804.\"\n",
        "doc = nlp(text)\n",
        "\n",
        "for token in doc:\n",
        "    if token.dep_ in (\"nsubj\", \"dobj\", \"pobj\"):\n",
        "        print(f\"Token: {token.text}, Head: {token.head.text}, Dep: {token.dep_}\")\n"
      ],
      "metadata": {
        "id": "gNbRaYO_D_RC"
      },
      "execution_count": null,
      "outputs": []
    },
    {
      "cell_type": "code",
      "source": [
        "from transformers import AutoModelForSeq2SeqLM, AutoTokenizer\n",
        "\n",
        "def extract_triplets(text):\n",
        "    triplets = []\n",
        "    relation, subject, relation, object_ = '', '', '', ''\n",
        "    text = text.strip()\n",
        "    current = 'x'\n",
        "    for token in text.replace(\"<s>\", \"\").replace(\"<pad>\", \"\").replace(\"</s>\", \"\").split():\n",
        "        if token == \"<triplet>\":\n",
        "            current = 't'\n",
        "            if relation != '':\n",
        "                triplets.append({'head': subject.strip(), 'type': relation.strip(),'tail': object_.strip()})\n",
        "                relation = ''\n",
        "            subject = ''\n",
        "        elif token == \"<subj>\":\n",
        "            current = 's'\n",
        "            if relation != '':\n",
        "                triplets.append({'head': subject.strip(), 'type': relation.strip(),'tail': object_.strip()})\n",
        "            object_ = ''\n",
        "        elif token == \"<obj>\":\n",
        "            current = 'o'\n",
        "            relation = ''\n",
        "        else:\n",
        "            if current == 't':\n",
        "                subject += ' ' + token\n",
        "            elif current == 's':\n",
        "                object_ += ' ' + token\n",
        "            elif current == 'o':\n",
        "                relation += ' ' + token\n",
        "    if subject != '' and relation != '' and object_ != '':\n",
        "        triplets.append({'head': subject.strip(), 'type': relation.strip(),'tail': object_.strip()})\n",
        "    return triplets\n",
        "\n",
        "# Load model and tokenizer\n",
        "tokenizer = AutoTokenizer.from_pretrained(\"Babelscape/rebel-large\")\n",
        "model = AutoModelForSeq2SeqLM.from_pretrained(\"Babelscape/rebel-large\")\n",
        "gen_kwargs = {\n",
        "    \"max_length\": 256,\n",
        "    \"length_penalty\": 0,\n",
        "    \"num_beams\": 30,\n",
        "    \"num_return_sequences\": 30,\n",
        "}\n",
        "\n",
        "# Text to extract triplets from\n",
        "# text = 'Punta Cana is a resort town in the municipality of Higüey, in La Altagracia Province, the easternmost province of the Dominican Republic.'\n",
        "\n",
        "# Tokenizer text\n",
        "model_inputs = tokenizer(athensWikipediaText, max_length=256, padding=True, truncation=True, return_tensors = 'pt')\n",
        "\n",
        "# Generate\n",
        "generated_tokens = model.generate(\n",
        "    model_inputs[\"input_ids\"].to(model.device),\n",
        "    attention_mask=model_inputs[\"attention_mask\"].to(model.device),\n",
        "    **gen_kwargs,\n",
        ")\n",
        "\n",
        "# Extract text\n",
        "decoded_preds = tokenizer.batch_decode(generated_tokens, skip_special_tokens=False)\n",
        "print(decoded_preds)\n",
        "\n",
        "# Extract triplets\n",
        "for idx, sentence in enumerate(decoded_preds):\n",
        "    print(f'Prediction triplets sentence {idx}')\n",
        "    print(extract_triplets(sentence))\n"
      ],
      "metadata": {
        "id": "ITJPqgqINDo2"
      },
      "execution_count": null,
      "outputs": []
    },
    {
      "cell_type": "code",
      "source": [
        "from transformers import pipeline\n",
        "\n",
        "triplet_extractor = pipeline('text2text-generation', model='Babelscape/rebel-large', tokenizer='Babelscape/rebel-large')\n",
        "# We need to use the tokenizer manually since we need special tokens.\n",
        "extracted_text = triplet_extractor.tokenizer.batch_decode([triplet_extractor(athensWikipediaText[0:500], return_tensors=True, return_text=False)[0][\"generated_token_ids\"]])\n",
        "print(extracted_text[0])\n",
        "# Function to parse the generated text and extract the triplets\n",
        "def extract_triplets(text):\n",
        "    triplets = []\n",
        "    relation, subject, relation, object_ = '', '', '', ''\n",
        "    text = text.strip()\n",
        "    current = 'x'\n",
        "    for token in text.replace(\"<s>\", \"\").replace(\"<pad>\", \"\").replace(\"</s>\", \"\").split():\n",
        "        if token == \"<triplet>\":\n",
        "            current = 't'\n",
        "            if relation != '':\n",
        "                triplets.append({'head': subject.strip(), 'type': relation.strip(),'tail': object_.strip()})\n",
        "                relation = ''\n",
        "            subject = ''\n",
        "        elif token == \"<subj>\":\n",
        "            current = 's'\n",
        "            if relation != '':\n",
        "                triplets.append({'head': subject.strip(), 'type': relation.strip(),'tail': object_.strip()})\n",
        "            object_ = ''\n",
        "        elif token == \"<obj>\":\n",
        "            current = 'o'\n",
        "            relation = ''\n",
        "        else:\n",
        "            if current == 't':\n",
        "                subject += ' ' + token\n",
        "            elif current == 's':\n",
        "                object_ += ' ' + token\n",
        "            elif current == 'o':\n",
        "                relation += ' ' + token\n",
        "    if subject != '' and relation != '' and object_ != '':\n",
        "        triplets.append({'head': subject.strip(), 'type': relation.strip(),'tail': object_.strip()})\n",
        "    return triplets\n",
        "extracted_triplets = extract_triplets(extracted_text[0])\n",
        "print(extracted_triplets)\n"
      ],
      "metadata": {
        "id": "wYJk5-jsPkB3"
      },
      "execution_count": null,
      "outputs": []
    },
    {
      "cell_type": "markdown",
      "source": [
        "------------------------------------\n",
        "Superteams KG"
      ],
      "metadata": {
        "id": "WBizLB1ea9vN"
      }
    },
    {
      "cell_type": "code",
      "source": [
        "!pip install --upgrade --quiet  langchain neo4j wikipedia transformers torch langchain_community"
      ],
      "metadata": {
        "id": "p6demxNHbAKF"
      },
      "execution_count": null,
      "outputs": []
    },
    {
      "cell_type": "code",
      "source": [
        "from neo4j import GraphDatabase\n",
        "from google.colab import userdata\n",
        "\n",
        "url = userdata.get('NEO4J_URL')\n",
        "username = userdata.get('NEO4J_USERNAME')\n",
        "password = userdata.get('NEO4J_PASSWORD')\n",
        "auth = (username, password)\n",
        "graph = GraphDatabase.driver(uri=url, auth=auth)\n",
        "\n",
        "graph.verify_connectivity()"
      ],
      "metadata": {
        "id": "wRZwrYkAbJEN"
      },
      "execution_count": null,
      "outputs": []
    },
    {
      "cell_type": "code",
      "source": [
        "from langchain.text_splitter import RecursiveCharacterTextSplitter\n",
        "text_splitter = RecursiveCharacterTextSplitter(\n",
        "         chunk_size=512,\n",
        "         length_function=len,\n",
        "         is_separator_regex=False,)"
      ],
      "metadata": {
        "id": "qfyIhn-JbLnb"
      },
      "execution_count": null,
      "outputs": []
    },
    {
      "cell_type": "code",
      "source": [
        "from langchain_community.document_loaders import WikipediaLoader\n",
        "query = \"History of Athens\"\n",
        "raw_documents = WikipediaLoader(query=query).load_and_split(text_splitter=text_splitter)\n",
        "\n",
        "print(raw_documents)"
      ],
      "metadata": {
        "id": "ksQeF8lfbNT3"
      },
      "execution_count": null,
      "outputs": []
    },
    {
      "cell_type": "code",
      "source": [
        "from transformers import AutoModelForSeq2SeqLM, AutoTokenizer\n",
        "tokenizer = AutoTokenizer.from_pretrained(\"Babelscape/rebel-large\")\n",
        "model = AutoModelForSeq2SeqLM.from_pretrained(\"Babelscape/rebel-large\")"
      ],
      "metadata": {
        "id": "lu_igyhsbU_K"
      },
      "execution_count": null,
      "outputs": []
    },
    {
      "cell_type": "code",
      "source": [
        "def extract_relations_from_model_output(text):\n",
        "    triplets = []\n",
        "    relation, subject, relation, object_ = '', '', '', ''\n",
        "    text = text.strip()\n",
        "    current = 'x'\n",
        "    for token in text.replace(\"<s>\", \"\").replace(\"<pad>\", \"\").replace(\"</s>\", \"\").split():\n",
        "        if token == \"<triplet>\":\n",
        "            current = 't'\n",
        "            if relation != '':\n",
        "                triplets.append({'head': subject.strip(), 'type': relation.strip(),'tail': object_.strip()})\n",
        "                relation = ''\n",
        "            subject = ''\n",
        "        elif token == \"<subj>\":\n",
        "            current = 's'\n",
        "            if relation != '':\n",
        "                triplets.append({'head': subject.strip(), 'type': relation.strip(),'tail': object_.strip()})\n",
        "            object_ = ''\n",
        "        elif token == \"<obj>\":\n",
        "            current = 'o'\n",
        "            relation = ''\n",
        "        else:\n",
        "            if current == 't':\n",
        "                subject += ' ' + token\n",
        "            elif current == 's':\n",
        "                object_ += ' ' + token\n",
        "            elif current == 'o':\n",
        "                relation += ' ' + token\n",
        "    if subject != '' and relation != '' and object_ != '':\n",
        "        triplets.append({'head': subject.strip(), 'type': relation.strip(),'tail': object_.strip()})\n",
        "    return triplets"
      ],
      "metadata": {
        "id": "bUmmcLQAbVhE"
      },
      "execution_count": null,
      "outputs": []
    },
    {
      "cell_type": "code",
      "source": [
        "class KB():\n",
        "    def __init__(self):\n",
        "        self.relations = []\n",
        "    def are_relations_equal(self, r1, r2):\n",
        "        return all(r1[attr] == r2[attr] for attr in [\"head\", \"type\", \"tail\"])\n",
        "    def exists_relation(self, r1):\n",
        "        return any(self.are_relations_equal(r1, r2) for r2 in self.relations)\n",
        "    def add_relation(self, r):\n",
        "        if not self.exists_relation(r):\n",
        "            self.relations.append(r)\n",
        "    def print(self):\n",
        "        print(\"Relations:\")\n",
        "        for r in self.relations:\n",
        "            print(f\"  {r}\")\n"
      ],
      "metadata": {
        "id": "X0uIhnE-bd58"
      },
      "execution_count": null,
      "outputs": []
    },
    {
      "cell_type": "code",
      "source": [
        "def from_small_text_to_kb(text, verbose=False):\n",
        "    kb = KB()\n",
        "\n",
        "    # Tokenizer text\n",
        "    model_inputs = tokenizer(text, max_length=512, padding=True, truncation=True,return_tensors='pt')\n",
        "\n",
        "    if verbose:\n",
        "        print(f\"Num tokens: {len(model_inputs['input_ids'][0])}\")\n",
        "\n",
        "        # Generate\n",
        "    gen_kwargs = {\n",
        "        \"max_length\": 216,\n",
        "        \"length_penalty\": 0,\n",
        "        \"num_beams\": 3,\n",
        "        \"num_return_sequences\": 3\n",
        "        }\n",
        "\n",
        "    generated_tokens = model.generate(\n",
        "        **model_inputs,\n",
        "        **gen_kwargs,\n",
        "        )\n",
        "\n",
        "    decoded_preds = tokenizer.batch_decode(generated_tokens, skip_special_tokens=False)\n",
        "\n",
        "    # create kb\n",
        "    for sentence_pred in decoded_preds:\n",
        "        relations = extract_relations_from_model_output(sentence_pred)\n",
        "        for r in relations:\n",
        "            kb.add_relation(r)\n",
        "\n",
        "    return kb"
      ],
      "metadata": {
        "id": "JeiCMv7jbffO"
      },
      "execution_count": null,
      "outputs": []
    },
    {
      "cell_type": "code",
      "source": [
        "for doc in raw_documents:\n",
        "    kb = from_small_text_to_kb(doc.page_content, verbose=True)\n",
        "\n",
        "\n",
        "    for relation in kb.relations:\n",
        "        head = relation['head']\n",
        "        relationship = relation['type']\n",
        "        tail = relation['tail']\n",
        "\n",
        "\n",
        "        cypher = f\"MERGE (h:`{head}`)\" + f\" MERGE (t:`{tail}`)\" + f\" MERGE (h)-[:`{relationship}`]->(t)\"\n",
        "        print(cypher)\n",
        "        graph.execute_query(cypher)\n",
        "\n",
        "\n",
        "# graph.refresh_schema()"
      ],
      "metadata": {
        "id": "zfgxAeUBbhg0"
      },
      "execution_count": null,
      "outputs": []
    },
    {
      "cell_type": "code",
      "source": [],
      "metadata": {
        "id": "T63BRrNAbjrc"
      },
      "execution_count": null,
      "outputs": []
    },
    {
      "cell_type": "markdown",
      "source": [
        "--------------------------"
      ],
      "metadata": {
        "id": "3VYp8IECtEva"
      }
    },
    {
      "cell_type": "code",
      "source": [
        "!pip3 install wikipedia-api langchain_community"
      ],
      "metadata": {
        "id": "BBqIgMfdtqwe"
      },
      "execution_count": null,
      "outputs": []
    },
    {
      "cell_type": "code",
      "source": [
        "from langchain_community.document_loaders import WikipediaLoader\n",
        "query = \"Classical Athens\"\n",
        "raw_documents = WikipediaLoader(query=query).load()\n",
        "\n",
        "print(raw_documents)"
      ],
      "metadata": {
        "id": "S-UrE6qPsp85"
      },
      "execution_count": null,
      "outputs": []
    },
    {
      "cell_type": "code",
      "source": [
        "import wikipediaapi\n",
        "wiki_wiki = wikipediaapi.Wikipedia('Antel0pe HistoryKG', 'en', extract_format=wikipediaapi.ExtractFormat.HTML)\n",
        "\n",
        "page_py = wiki_wiki\n",
        "print(page_py)"
      ],
      "metadata": {
        "id": "Is6zHJCluRkv"
      },
      "execution_count": null,
      "outputs": []
    },
    {
      "cell_type": "code",
      "source": [
        "!pip install requests"
      ],
      "metadata": {
        "id": "T144Ipxw-rl-"
      },
      "execution_count": null,
      "outputs": []
    },
    {
      "cell_type": "code",
      "source": [
        "import requests\n",
        "\n",
        "S = requests.Session()\n",
        "\n",
        "URL = \"https://en.wikipedia.org/w/api.php\"\n",
        "\n",
        "PARAMS = {\n",
        "\t\"action\": \"parse\",\n",
        "\t\"format\": \"json\",\n",
        "\t\"page\": \"Classical Athens\",\n",
        "\t\"prop\": \"wikitext\",\n",
        "\t\"formatversion\": \"2\"\n",
        "}\n",
        "\n",
        "R = S.get(url=URL, params=PARAMS)\n",
        "DATA = R.json()\n",
        "\n",
        "wikitext = DATA['parse']\n",
        "\n",
        "print(wikitext['text'])"
      ],
      "metadata": {
        "id": "Ba5OhTSf-xkU"
      },
      "execution_count": null,
      "outputs": []
    },
    {
      "cell_type": "code",
      "source": [
        "import re\n",
        "\n",
        "'''\n",
        "can i get regex anchor from raw api request ^\n",
        "then replace all text from wikipediaapi text with parsed anchor texts\n",
        "'''"
      ],
      "metadata": {
        "id": "uIdsGs3B_YLR"
      },
      "execution_count": null,
      "outputs": []
    },
    {
      "cell_type": "code",
      "source": [
        "'''\n",
        "possible steps for progress:\n",
        "1. parse all dates - years, month dates\n",
        "'''"
      ],
      "metadata": {
        "id": "4x5wpgoJDvZU"
      },
      "execution_count": null,
      "outputs": []
    },
    {
      "cell_type": "code",
      "source": [],
      "metadata": {
        "id": "Hv0ySF66D0hm"
      },
      "execution_count": null,
      "outputs": []
    }
  ]
}